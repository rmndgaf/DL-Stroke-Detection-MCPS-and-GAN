{
  "nbformat": 4,
  "nbformat_minor": 0,
  "metadata": {
    "colab": {
      "provenance": [],
      "mount_file_id": "1TH9_Qmc4YXtoGsLw0G6j7NqnRQxO6eUh",
      "authorship_tag": "ABX9TyNfjwT9SOnPkv8w/e8Qp4ic",
      "include_colab_link": true
    },
    "kernelspec": {
      "name": "python3",
      "display_name": "Python 3"
    },
    "language_info": {
      "name": "python"
    }
  },
  "cells": [
    {
      "cell_type": "markdown",
      "metadata": {
        "id": "view-in-github",
        "colab_type": "text"
      },
      "source": [
        "<a href=\"https://colab.research.google.com/github/rmndgaf/DL-Stroke-Detection-MCPS-and-GAN/blob/main/Stroke_DL_GAN.ipynb\" target=\"_parent\"><img src=\"https://colab.research.google.com/assets/colab-badge.svg\" alt=\"Open In Colab\"/></a>"
      ]
    },
    {
      "cell_type": "markdown",
      "source": [
        "#EDA"
      ],
      "metadata": {
        "id": "69L6Y3JN57iX"
      }
    },
    {
      "cell_type": "code",
      "execution_count": 1,
      "metadata": {
        "id": "1lMmyCOq4irR"
      },
      "outputs": [],
      "source": [
        "# Simple EDA\n",
        "import numpy as np\n",
        "import pandas as pd"
      ]
    },
    {
      "cell_type": "code",
      "source": [
        "data = pd.read_csv('/content/drive/MyDrive/Immersion/patient-characteristics-survey-pcs-2017-1.csv')\n",
        "dataset = data.copy()\n",
        "print(dataset.shape)"
      ],
      "metadata": {
        "colab": {
          "base_uri": "https://localhost:8080/"
        },
        "id": "BC1H7iyh5ku8",
        "outputId": "9f8976c8-2684-4820-b1cd-ac7910a914f0"
      },
      "execution_count": 3,
      "outputs": [
        {
          "output_type": "stream",
          "name": "stdout",
          "text": [
            "(187192, 67)\n"
          ]
        }
      ]
    },
    {
      "cell_type": "code",
      "source": [],
      "metadata": {
        "id": "ghM2w-zc59j-"
      },
      "execution_count": null,
      "outputs": []
    }
  ]
}